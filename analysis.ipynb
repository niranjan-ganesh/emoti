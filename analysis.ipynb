{
 "cells": [
  {
   "cell_type": "code",
   "execution_count": null,
   "metadata": {},
   "outputs": [],
   "source": [
    "%load_ext autoreload\n",
    "%autoreload 2\n",
    "\n"
   ]
  },
  {
   "cell_type": "code",
   "execution_count": null,
   "metadata": {},
   "outputs": [],
   "source": [
    "# Import the high-level API class from your project\n",
    "from src.bio_signal_system import BiosignalSystem\n",
    "import ipywidgets as widgets\n",
    "from IPython.display import display\n",
    "import time\n",
    "\n",
    "# Initialize the BiosignalSystem with appropriate parameters.\n",
    "# Adjust ip_address, ip_port, channel_index, and update_interval as needed.\n",
    "system = BiosignalSystem(\n",
    "    ip_address='192.168.137.23',   # Update with your sensor's IP\n",
    "    ip_port=3131,\n",
    "    channel_index=1,               # The channel to be used for live plotting/analytics\n",
    "    update_interval=1000           # Update interval (in milliseconds) for live plotting\n",
    ")\n",
    "\n",
    "# Start data acquisition, storage, and real-time analytics.\n",
    "system.start()\n",
    "\n",
    "# Start the live plot (this should open an interactive matplotlib plot for channel 1).\n",
    "system.plot_live(channel_index=1, interval=1000)\n",
    "\n",
    "# Create a stop button widget to gracefully stop the system.\n",
    "stop_button = widgets.Button(\n",
    "    description=\"Stop System\",\n",
    "    button_style='danger'  # Optional: makes the button appear in red.\n",
    ")\n",
    "\n",
    "# Define the callback function for the stop button.\n",
    "def on_stop_button_clicked(b):\n",
    "    system.stop()\n",
    "    print(\"System stopped!\")\n",
    "    # Optionally, after stopping, retrieve and display final data snapshot.\n",
    "    data = system.get_data()\n",
    "    print(\"Final data snapshot:\")\n",
    "    display(data.head())\n",
    "\n",
    "# Link the stop button to the callback function.\n",
    "stop_button.on_click(on_stop_button_clicked)\n",
    "\n",
    "# Display the stop button in the notebook.\n",
    "display(stop_button)"
   ]
  },
  {
   "cell_type": "code",
   "execution_count": null,
   "metadata": {},
   "outputs": [],
   "source": []
  }
 ],
 "metadata": {
  "kernelspec": {
   "display_name": "eda1",
   "language": "python",
   "name": "python3"
  },
  "language_info": {
   "codemirror_mode": {
    "name": "ipython",
    "version": 3
   },
   "file_extension": ".py",
   "mimetype": "text/x-python",
   "name": "python",
   "nbconvert_exporter": "python",
   "pygments_lexer": "ipython3",
   "version": "3.13.2"
  }
 },
 "nbformat": 4,
 "nbformat_minor": 2
}
